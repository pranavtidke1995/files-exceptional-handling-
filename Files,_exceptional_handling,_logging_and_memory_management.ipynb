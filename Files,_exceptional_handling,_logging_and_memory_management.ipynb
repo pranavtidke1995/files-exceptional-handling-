{
  "nbformat": 4,
  "nbformat_minor": 0,
  "metadata": {
    "colab": {
      "provenance": []
    },
    "kernelspec": {
      "name": "python3",
      "display_name": "Python 3"
    },
    "language_info": {
      "name": "python"
    }
  },
  "cells": [
    {
      "cell_type": "markdown",
      "source": [
        "1. What is the difference between interpreted and compiled languages?\n",
        " - Compiled Languages:  \n",
        ". The source code is translated (compiled) into machine code by a compiler before execution.  \n",
        ". The compiled program is a separate executable file that runs directly on the hardware.  \n",
        ". Examples: C, C++, Rust, Go  \n",
        ". Pros: Faster execution, better optimization, no need for an interpreter at runtime.  \n",
        ". Cons: Compilation takes extra time, platform-dependent executables.  \n",
        " * Interpreted Languages:   \n",
        ". The source code is executed line by line by an interpreter at runtime.  \n",
        ". No separate machine code file is created; execution happens dynamically.  \n",
        ". Examples: Python, JavaScript, PHP, Ruby  \n",
        ". Pros: Easier debugging, cross-platform compatibility, no need for compilation.  \n",
        ". Cons: Slower execution due to real-time interpretation, higher resource usage.\n",
        "\n",
        "2. What is exception handling in Python?\n",
        " - Exception handling in Python is a mechanism to handle runtime errors gracefully, preventing the program from crashing unexpectedly. It uses try-except blocks to catch and handle errors.\n",
        "\n",
        "3. What is the purpose of the finally block in exception handling?\n",
        " - Purpose of the finally Block in Exception Handling:  \n",
        "The finally block is used in Python exception handling to execute code regardless of whether an exception occurs or not. It is commonly used for cleanup tasks like closing files, releasing resources, or disconnecting from a database.\n",
        "\n",
        "4. What is logging in Python?\n",
        " - Logging is a mechanism in Python used to track events that happen during program execution. It helps in debugging, monitoring, and maintaining applications by recording messages with different levels of importance.\n",
        "\n",
        "5. What is the significance of the __del__ method in Python?\n",
        " - Significance of the __del__ Method in Python\n",
        "The __del__ method in Python is a destructor that is called when an object is about to be destroyed. It is used to clean up resources like closing files, releasing memory, or disconnecting from databases before an object is deleted.\n",
        "\n",
        " * Key Points About __del__  \n",
        ". Automatic Invocation – Python calls __del__ when an object is no longer referenced.  \n",
        ". Used for Cleanup – Helps in releasing resources (files, sockets, database connections).  \n",
        ". Not Always Predictable – The timing of __del__ execution depends on Python’s garbage collector.  \n",
        ". Circular References Issue – Objects involved in circular references may not be garbage collected immediately.    \n",
        ". Should Be Used Carefully – Overusing __del__ can lead to unexpected behavior in object lifecycle management.\n",
        "\n",
        "6. What is the difference between import and from ... import in Python?\n",
        " - import module_name  \n",
        " . What it does:  \n",
        "This imports the entire module.\n",
        "You access the module's contents (functions, classes, variables) using dot notation (e.g., module_name.function_name()).  \n",
        " . Example:  \n",
        "import math\n",
        "To use the square root function, you'd write: math.sqrt(16)\n",
        " * from module_name import item_name  \n",
        ". What it does:  \n",
        "This imports specific items (functions, classes, variables) directly into your current namespace.\n",
        "You can then use those items without the module name prefix.  \n",
        " . Example:  \n",
        "from math import sqrt\n",
        "To use the square root function, you'd write: sqrt(16)\n",
        "\n",
        "\n",
        "7. How can you handle multiple exceptions in Python?\n",
        " - Python provides several ways to handle multiple exceptions, allowing you to create robust and error-resistant code. Here's a breakdown of the key methods:\n",
        "\n",
        " * Multiple except Blocks:  \n",
        "This is the most straightforward approach. You use separate except blocks for each exception type you want to handle differently.\n",
        "Python  \n",
        "try:  \n",
        ". Code that might raise exceptions  \n",
        "      result = 10 / int(input(\"Enter a number: \"))  \n",
        "      my_list = [1, 2, 3]  \n",
        "      print(my_list[result])  \n",
        "  except ValueError:  \n",
        "      print(\"Invalid input. Please enter a number.\")  \n",
        "  except ZeroDivisionError:  \n",
        "      print(\"Cannot divide by zero.\")  \n",
        "  except IndexError:  \n",
        "      print(\"Index out of range.\")  \n",
        "This allows for very specific handling of each potential error.\n",
        " * Catching Multiple Exceptions in a Single except Block:\n",
        "\n",
        "You can group multiple exception types into a tuple within a single except block if you want to handle them in the same way.\n",
        "Python\n",
        "try:\n",
        "      # Code that might raise exceptions\n",
        "      result = 10 / int(input(\"Enter a number: \"))\n",
        "  except (ValueError, ZeroDivisionError):\n",
        "      print(\"Invalid input or division by zero.\")\n",
        "This is useful when multiple exceptions require similar error-handling logic.\n",
        "* Catching a Base Exception:\n",
        "\n",
        "Exceptions in Python are organized in a hierarchy. You can catch a base exception class to handle all its subclasses.\n",
        "Python\n",
        "\n",
        "  try:\n",
        "      # Code that might raise file-related exceptions\n",
        "      with open(\"myfile.txt\", \"r\") as f:\n",
        "          content = f.read()\n",
        "  except OSError:\n",
        "      print(\"An operating system error occurred (e.g., file not found).\")\n",
        "OSError is a base exception for many file-related errors, so this catches FileNotFoundError, PermissionError, and others. However, it is generally better to catch the most specific exceptions that you can, to allow for the most accurate error handling.\n",
        "\n",
        "8. What is the purpose of the with statement when handling files in Python?\n",
        " - The with statement in Python is used for handling files efficiently by ensuring that the file is properly closed after its operations, even if an error occurs.\n",
        "\n",
        " * Why Use the with Statement:  \n",
        ". Automatic Resource Management – Closes the file automatically after execution.  \n",
        ". Avoids Memory Leaks – Prevents issues caused by forgetting to close files.  \n",
        ". Cleaner Code – No need for explicit file.close() calls.\n",
        "\n",
        "9. What is the difference between multithreading and multiprocessing?\n",
        " - Core Concepts:  \n",
        ". Process:   \n",
        "A process is an independent execution environment. It has its own memory space.  \n",
        ". Thread:   \n",
        "A thread is a lightweight unit of execution within a process. Threads share the same memory space as their parent process.\n",
        " * Key Differences:  \n",
        ". Execution:  \n",
        "Multiprocessing: Runs multiple processes concurrently, typically on separate CPU cores. This achieves true parallelism.\n",
        "Multithreading: Runs multiple threads concurrently within a single process. Due to the Global Interpreter Lock (GIL) in standard Python, multithreading primarily achieves concurrency (tasks switching rapidly) rather than true parallelism for CPU-bound tasks.\n",
        ". Memory:  \n",
        "Multiprocessing: Each process has its own independent memory space.\n",
        "Multithreading: Threads within a process share the same memory space.     \n",
        ". Use Cases:  \n",
        "Multiprocessing: Best for CPU-bound tasks (e.g., heavy computations) that can benefit from parallel execution on multiple cores.\n",
        "Multithreading: Best for I/O-bound tasks (e.g., network requests, file operations) where threads can wait for I/O operations without blocking the entire program.\n",
        ". Overhead:  \n",
        "Multiprocessing: Has higher overhead due to the creation and management of separate processes.\n",
        "Multithreading: Has lower overhead because threads share the same memory space.   \n",
        ". Python's GIL:  \n",
        "The Global Interpreter Lock (GIL) in standard Python limits the execution of threads, allowing only one thread to hold the Python interpreter control at any moment. This significantly impacts the performance of multithreading for CPU-bound tasks. Multiprocessing bypasses the GIL.\n",
        "\n",
        "10. What are the advantages of using logging in a program?\n",
        " - Advantages of Using Logging in a Program\n",
        "Logging is a crucial practice in software development, providing structured and meaningful information about program execution. Here are its key benefits:\n",
        "\n",
        " * Helps in Debugging and Troubleshooting  \n",
        "Logs capture detailed information about errors, making it easier to trace issues.\n",
        "Unlike print(), logging provides timestamps, error levels, and stack traces for better debugging.\n",
        " * Provides Different Log Levels for Better Monitoring  \n",
        "Logging supports multiple severity levels:\n",
        "DEBUG – Detailed debugging info\n",
        "INFO – General program execution updates\n",
        "WARNING – Alerts about potential issues\n",
        "ERROR – Records major failures\n",
        "CRITICAL – Indicates system crashes\n",
        "This helps filter messages based on importance.\n",
        " * Saves Logs to Files for Future Analysis  \n",
        "Unlike print(), logging allows storing messages in log files for later review.\n",
        "Useful for audit trails, security monitoring, and tracking application performance.\n",
        " * Supports Logging from Multiple Modules  \n",
        "Logs can be generated from different parts of an application and consolidated.\n",
        "Helps in tracking interactions between components in large applications.\n",
        " * Improves Application Maintenance  \n",
        "Developers can analyze logs to detect performance bottlenecks, slow responses, or errors.\n",
        "Regular log analysis helps identify trends and optimize code.\n",
        "\n",
        "11. What is memory management in Python?\n",
        " - Python's memory management is a crucial aspect of its design, contributing significantly to its ease of use. It handles the allocation and deallocation of memory, so you don't have to manually manage it like in some other programming languages.\n",
        "\n",
        "12.  What are the basic steps involved in exception handling in Python?\n",
        " - Exception handling in Python is a structured way to deal with errors that occur during the execution of a program. Here's a breakdown of the basic steps involved:\n",
        "\n",
        " * The try Block:\n",
        "This is where you place the code that might potentially raise an exception.\n",
        "Python will attempt to execute the code within the try block.\n",
        " * The except Block(s):\n",
        "If an exception occurs within the try block, Python will look for a matching except block.\n",
        "You can have multiple except blocks to handle different types of exceptions.\n",
        "When an exception matches an except block, the code within that block is executed.\n",
        "If no matching except block is found, the exception propagates up the call stack, potentially causing the program to terminate.\n",
        " * Optional else Block:\n",
        "The else block is executed if no exceptions occur within the try block.\n",
        "It's useful for code that should only run when the try block succeeds.\n",
        " * Optional finally Block:\n",
        "The finally block is always executed, regardless of whether an exception occurred or not.\n",
        "It's typically used for cleanup operations, such as closing files or releasing resources.  \n",
        "\n",
        "13. Why is memory management important in Python?\n",
        " -  Efficient Resource Utilization\n",
        "Python programs use memory for variables, objects, and data structures.\n",
        "Proper memory management ensures that unused memory is released to avoid excessive consumption.\n",
        " * Prevents Memory Leaks\n",
        "If objects are not properly managed, they may remain in memory even after they are no longer needed.\n",
        "Memory leaks can cause performance issues and crashes in long-running applications.\n",
        " * Automatic Garbage Collection\n",
        "Python has a built-in Garbage Collector (GC) that automatically removes unused objects.\n",
        "The GC uses Reference Counting and a Cyclic Garbage Collector to free memory.\n",
        "However, in some cases, manual garbage collection (gc.collect()) may be required for better memory management.\n",
        " * Optimizes Performance\n",
        "Poor memory management can lead to slow execution and high RAM usage.\n",
        "Proper handling of large datasets, loops, and object references improves efficiency.\n",
        " * Avoids Memory Fragmentation\n",
        "Frequent allocation and deallocation of objects may cause fragmentation, where memory is wasted due to scattered unused blocks.\n",
        "Python’s memory allocator (PyMalloc) reduces fragmentation by managing small memory blocks efficiently.\n",
        "\n",
        "14. What is the role of try and except in exception handling?\n",
        " -  try Block: Detects Errors\n",
        "The try block contains code that may raise an exception.\n",
        "If no error occurs, the code runs normally.\n",
        "If an error occurs, Python stops execution and jumps to the except block.  \n",
        " . Example:  \n",
        "try:\n",
        "    num = int(input(\"Enter a number: \"))  # Might raise ValueError\n",
        "    result = 10 / num  # Might raise ZeroDivisionError\n",
        " * except Block: Handles Errors\n",
        "The except block catches and handles exceptions raised in the try block.\n",
        "It prevents the program from stopping abruptly.\n",
        "Multiple except blocks can handle different types of errors.  \n",
        " . Example:  \n",
        "try:\n",
        "    num = int(input(\"Enter a number: \"))  \n",
        "    result = 10 / num  \n",
        "except ZeroDivisionError:\n",
        "    print(\"Error: Cannot divide by zero!\")  \n",
        "except ValueError:\n",
        "    print(\"Error: Invalid input! Please enter a number.\")\n",
        "\n",
        "\n",
        "15. How does Python's garbage collection system work?\n",
        " - How it works:  \n",
        " . Every object in Python has a reference count, which tracks the number of references pointing to that object.\n",
        " . When an object is created, its reference count is set to 1.  \n",
        " . The reference count increases when a new variable or data structure refers to the object.  \n",
        " . The reference count decreases when a reference is deleted or reassigned.\n",
        "When an object's reference count reaches 0, it means the object is no longer being used, and its memory can be reclaimed.\n",
        "\n",
        "16. What is the purpose of the else block in exception handling?\n",
        " - Purpose of the else Block in Exception Handling  \n",
        "The else block in Python's exception handling is used to execute code only if no exceptions occur in the try block. It helps separate error-handling logic from normal execution, making the code more readable and structured.\n",
        " * How else Works?  \n",
        "The else block runs only if the try block executes successfully without any exceptions.\n",
        "If an exception occurs, the else block is skipped, and the except block handles the error.\n",
        "\n",
        "17. What are the common logging levels in Python?\n",
        " - Python's logging module provides a flexible framework for emitting log messages from your programs. These log messages are categorized into different levels, indicating their severity or importance. Here are the common logging levels in Python, in increasing order of severity:\n",
        " * DEBUG (10):  \n",
        "This level provides detailed information, typically used for diagnosing problems.\n",
        "It's helpful during development and debugging to trace the execution flow and inspect variable values.\n",
        " * INFO (20):  \n",
        "This level confirms that things are working as expected.\n",
        "It's used to log general information about the program's operation.\n",
        " * WARNING (30):  \n",
        "This level indicates that something unexpected happened or that a potential problem might occur in the future.\n",
        "It doesn't necessarily mean that the program will fail, but it warrants attention.\n",
        " * ERROR (40):  \n",
        "This level indicates that a more serious problem has occurred, and the program might not be able to perform a specific function.\n",
        "It signifies that an operation has failed.\n",
        " * CRITICAL (50):  \n",
        "This level indicates a severe error that might cause the program to terminate.\n",
        "It represents the highest level of severity.\n",
        " * NOTSET (0):  \n",
        "This is the default logging level. When a logger is created, if a logging level is not set, it defaults to Notset.\n",
        "When used on a logger, it means that the logger will inherit the logging level of its parent.\n",
        "\n",
        "18. What is the difference between os.fork() and multiprocessing in Python?\n",
        " - os.fork() – Low-Level Process Creation  \n",
        " . os.fork() directly creates a child process by duplicating the parent process.  \n",
        " . Available only on Unix/Linux systems (not supported on Windows).  \n",
        " . The child process inherits memory and file descriptors from the parent.  \n",
        " . Requires manual handling of inter-process communication (IPC).  \n",
        " * multiprocessing Module – High-Level API for Parallelism  \n",
        " . The multiprocessing module provides a cross-platform way to create processes.  \n",
        " . Uses the spawn, fork, or forkserver method, depending on the OS.  \n",
        " . Each process gets its own memory space (no shared memory like os.fork()).  \n",
        " . Supports Inter-Process Communication (IPC) via Queue and Pipe.  \n",
        "\n",
        "19. What is the importance of closing a file in Python?\n",
        " - Preventing Data Corruption:  \n",
        "When you write data to a file, it's often buffered in memory before being physically written to the disk.\n",
        "If your program terminates unexpectedly or crashes before the buffer is flushed, the data in the buffer may be lost, leading to data corruption.\n",
        "Closing the file ensures that all buffered data is written to the disk, guaranteeing data integrity.\n",
        " * Releasing System Resources:\n",
        "When you open a file, the operating system allocates resources to maintain the connection between your program and the file.\n",
        "These resources include file handles, which are limited.\n",
        "If you don't close files, you may exhaust these resources, preventing your program or other programs from opening new files.\n",
        "Closing a file releases these resources, making them available for other processes.\n",
        " * Preventing File Locking:\n",
        "In some operating systems, an open file may be locked, preventing other programs or processes from accessing or modifying it.\n",
        "Closing the file releases the lock, allowing other programs to access it.\n",
        " * Ensuring Portability:\n",
        "While Python's garbage collector will eventually close files when they are no longer in use, relying on this behavior is not recommended.\n",
        "The timing of garbage collection is unpredictable, and it may vary across different Python implementations and operating systems.\n",
        "Explicitly closing files ensures consistent behavior across platforms.\n",
        " * Best Practices:\n",
        "Using the with statement is the most recommended way to handle files in Python.\n",
        "The with statement automatically closes the file when the block of code within it finishes executing, even if exceptions occur.\n",
        "This ensures that files are always closed properly.\n",
        "\n",
        "20. What is the difference between file.read() and file.readline() in Python?\n",
        " - file.read(size) – Reads the Entire File or a Specified Number of Bytes\n",
        "Reads the entire file content as a single string if no argument is provided.\n",
        "If a size parameter is given, it reads only that many bytes/characters.  \n",
        " Example:  \n",
        "with open(\"sample.txt\", \"r\") as file:  \n",
        "    content = file.read()  \n",
        "    print(content)\n",
        " *file.readline() – Reads a Single Line at a Time\n",
        "Reads one line at a time, stopping at a newline (\\n).\n",
        "Consecutive calls to readline() read subsequent lines.  \n",
        " Example:  \n",
        "with open(\"sample.txt\", \"r\") as file:  \n",
        "    first_line = file.readline()  \n",
        "    second_line = file.readline()  \n",
        "    print(first_line, second_line)  \n",
        "\n",
        "23. What are the challenges associated with memory management in Python?\n",
        " -  Cyclic References:\n",
        "Although Python's generational garbage collector addresses this issue, cyclic references can still pose a challenge. These occur when two or more objects hold references to each other, creating a cycle.\n",
        "Reference counting alone cannot detect these cycles because the reference counts never reach zero, even if the objects are no longer accessible from the rest of the program.\n",
        "While the garbage collector handles most of these situations, very complex cyclic references can sometimes cause unexpected memory consumption.\n",
        " * Memory Overhead:\n",
        "Python objects generally have a higher memory overhead compared to objects in languages like C or C++. This is due to Python's dynamic typing and the need to store metadata for each object.\n",
        "This overhead can be a concern when dealing with large datasets or memory-constrained environments.\n",
        " * Garbage Collection Overhead:\n",
        "The garbage collection process itself consumes CPU time and can introduce pauses in program execution.\n",
        "While Python's garbage collector is optimized, frequent or lengthy garbage collection cycles can impact performance, especially in real-time or performance-critical applications.\n",
        "Though generational garbage collection improves performance, there is still overhead.\n",
        " * External Libraries and C Extensions:\n",
        "When using external libraries or C extensions, Python's memory management may not have complete control.\n",
        "Memory leaks or other memory-related issues can occur if these libraries or extensions do not properly manage memory.\n",
        "It is the responsiblity of the library or C extension to correctly manage memory.\n",
        " * Memory Fragmentation:\n",
        "Over time, repeated allocation and deallocation of memory can lead to memory fragmentation. This means that free memory is scattered throughout the heap, making it difficult to allocate large contiguous blocks of memory.\n",
        "Although pythons memory mangement systems attempt to mitigate this, it can still occur.\n",
        "\n",
        "24. How do you raise an exception manually in Python?\n",
        " - You can raise an exception manually in Python using the raise statement. This allows you to signal that an error or exceptional condition has occurred, even if it's not triggered by Python's built-in mechanisms.\n",
        "\n",
        "Here's how you do it:\n",
        " * Basic raise Statement:\n",
        "\n",
        "You can raise a built-in exception or a custom exception by creating an instance of the exception class and passing it to the raise statement.\n",
        "\n",
        "\n",
        "    raise ValueError(\"Invalid input provided.\")\n",
        " * Raising an Exception with a Message:\n",
        "\n",
        "Most exception classes allow you to provide a descriptive message as an argument to the constructor. This message will be included in the exception's error message.\n",
        "\n",
        "\n",
        "    def process_data(data):\n",
        "        if not isinstance(data, list):\n",
        "            raise TypeError(\"Data must be a list.\")\n",
        "        # ... rest of the function ...\n",
        "\n",
        "    try:\n",
        "        process_data(\"not a list\")\n",
        "    except TypeError as e:\n",
        "        print(f\"Error: {e}\")\n",
        " * Raising a Custom Exception:\n",
        "\n",
        "You can create your own custom exception classes by inheriting from the base Exception class or one of its subclasses.\n",
        "\n",
        "\n",
        "    class CustomError(Exception):\n",
        "        def __init__(self, message):\n",
        "            super().__init__(message)\n",
        "\n",
        "    def some_function(value):\n",
        "        if value < 0:\n",
        "            raise CustomError(\"Value cannot be negative.\")\n",
        "\n",
        "    try:\n",
        "        some_function(-5)\n",
        "    except CustomError as e:\n",
        "        print(f\"Custom Error: {e}\")\n",
        "\n",
        "\n",
        "25. Why is it important to use multithreading in certain applications?\n",
        " - Multithreading is important in certain applications because it allows for concurrent execution of tasks within a single process, which can significantly improve performance and responsiveness. Here's a breakdown of why it's beneficial:\n",
        "\n",
        " * Improved Responsiveness:  \n",
        "In applications with a graphical user interface (GUI), multithreading can prevent the UI from freezing when performing long-running tasks.\n",
        "A separate thread can handle the background task, while the main thread remains responsive to user input.\n",
        "This is crucial for providing a smooth and interactive user experience.  \n",
        " * Increased Throughput (I/O-Bound Tasks):  \n",
        "Applications that involve a lot of input/output (I/O) operations, such as network requests or file I/O, can benefit from multithreading.\n",
        "While one thread is waiting for I/O to complete, other threads can continue executing, maximizing CPU utilization.\n",
        "This is particularly effective when dealing with tasks that spend a significant amount of time waiting for external resources.     \n",
        " * Concurrent Execution of Independent Tasks:  \n",
        "If an application needs to perform multiple independent tasks simultaneously, multithreading can allow those tasks to run concurrently.\n",
        "This can improve overall performance by reducing the total execution time.\n",
        "For example, a web server can use multithreading to handle multiple client requests concurrently.\n",
        " * Simplified Design for Certain Tasks:  \n",
        "In some cases, multithreading can simplify the design of an application by allowing you to break down complex tasks into smaller, more manageable threads.   This can improve code readability and maintainability.\n",
        " * Resource Sharing:  \n",
        "Threads within a process share the same memory space, which allows for efficient data sharing.\n",
        "This can be useful when multiple threads need to access and modify the same data.\n",
        "\n",
        "\n",
        "\n",
        "\n",
        "\n",
        "   \n",
        "\n",
        "  "
      ],
      "metadata": {
        "id": "2fcJVvcnOElH"
      }
    },
    {
      "cell_type": "code",
      "execution_count": 1,
      "metadata": {
        "colab": {
          "base_uri": "https://localhost:8080/"
        },
        "id": "_3YCogkJN9KI",
        "outputId": "6527acd4-4548-4c44-c240-e5e1efdf047a"
      },
      "outputs": [
        {
          "output_type": "stream",
          "name": "stdout",
          "text": [
            "String written to file successfully.\n"
          ]
        }
      ],
      "source": [
        "#How can you open a file for writing in Python and write a string to it\n",
        "try:\n",
        "    file = open(\"my_file.txt\", \"w\")\n",
        "    file.write(\"This is a string written to the file.\")\n",
        "    file.close()\n",
        "    print(\"String written to file successfully.\")\n",
        "except IOError as e:\n",
        "    print(f\"An error occurred: {e}\")"
      ]
    },
    {
      "cell_type": "code",
      "source": [
        "#Write a Python program to read the contents of a file and print each line.\n",
        "def read_and_print_file(filename):\n",
        "\n",
        "    try:\n",
        "        with open(filename, 'r') as file:\n",
        "            for line in file:\n",
        "                print(line, end='')\n",
        "    except FileNotFoundError:\n",
        "        print(f\"Error: File '{filename}' not found.\")\n",
        "    except IOError as e:\n",
        "        print(f\"An error occurred while reading the file: {e}\")\n",
        "\n",
        "\n",
        "filename = \"my_file.txt\"\n",
        "\n",
        "try:\n",
        "    with open(filename, 'w') as f:\n",
        "        f.write(\"This is line 1.\\nThis is line 2.\\nThis is line 3.\")\n",
        "except IOError as e:\n",
        "    print(f\"Error creating sample file: {e}\")\n",
        "\n",
        "read_and_print_file(filename)"
      ],
      "metadata": {
        "colab": {
          "base_uri": "https://localhost:8080/"
        },
        "id": "O9bzNsA7wJ_U",
        "outputId": "ecaf9b6a-7b40-44ad-949c-ab93d693562b"
      },
      "execution_count": 3,
      "outputs": [
        {
          "output_type": "stream",
          "name": "stdout",
          "text": [
            "This is line 1.\n",
            "This is line 2.\n",
            "This is line 3."
          ]
        }
      ]
    },
    {
      "cell_type": "code",
      "source": [
        "#How would you handle a case where the file doesn't exist while trying to open it for reading\n",
        "def read_file_safely(filename):\n",
        "\n",
        "    try:\n",
        "        with open(filename, 'r') as file:\n",
        "            for line in file:\n",
        "                print(line, end='')\n",
        "    except FileNotFoundError:\n",
        "        print(f\"Error: The file '{filename}' does not exist.\")\n",
        "    except IOError as e:\n",
        "        print(f\"An I/O error occurred: {e}\")\n",
        "\n",
        "file_to_read = \"nonexistent_file.txt\"\n",
        "read_file_safely(file_to_read)\n",
        "\n",
        "file_to_read = \"existing_file.txt\"\n",
        "with open(file_to_read,'w') as f:\n",
        "    f.write('This is a test')\n",
        "read_file_safely(file_to_read)"
      ],
      "metadata": {
        "colab": {
          "base_uri": "https://localhost:8080/"
        },
        "id": "53J2bQ0WxcU6",
        "outputId": "c2b82a68-871a-408b-8054-7b76b7da7b42"
      },
      "execution_count": 4,
      "outputs": [
        {
          "output_type": "stream",
          "name": "stdout",
          "text": [
            "Error: The file 'nonexistent_file.txt' does not exist.\n",
            "This is a test"
          ]
        }
      ]
    },
    {
      "cell_type": "code",
      "source": [
        "# Write a Python script that reads from one file and writes its content to another file\n",
        "\n",
        "source_file = \"source.txt\"\n",
        "destination_file = \"destination.txt\"\n",
        "\n",
        "try:\n",
        "    with open(source_file, \"r\") as src, open(destination_file, \"w\") as dest:\n",
        "        for line in src:\n",
        "            dest.write(line)\n",
        "    print(f\"Content copied successfully from '{source_file}' to '{destination_file}'.\")\n",
        "except FileNotFoundError:\n",
        "    print(f\"Error: The file '{source_file}' was not found.\")\n",
        "except Exception as e:\n",
        "    print(f\"An error occurred: {e}\")\n"
      ],
      "metadata": {
        "colab": {
          "base_uri": "https://localhost:8080/"
        },
        "id": "sIzTLl9WxzYB",
        "outputId": "6a76b6ab-a38f-4c29-df21-9f906bc91186"
      },
      "execution_count": 5,
      "outputs": [
        {
          "output_type": "stream",
          "name": "stdout",
          "text": [
            "Error: The file 'source.txt' was not found.\n"
          ]
        }
      ]
    },
    {
      "cell_type": "code",
      "source": [
        "#How would you catch and handle division by zero error in Python?\n",
        "def divide_numbers(numerator, denominator):\n",
        "\n",
        "    try:\n",
        "        result = numerator / denominator\n",
        "        return result\n",
        "    except ZeroDivisionError:\n",
        "        print(\"Error: Division by zero is not allowed.\")\n",
        "        return None\n",
        "\n",
        "num1 = 10\n",
        "num2 = 0\n",
        "\n",
        "result = divide_numbers(num1, num2)\n",
        "\n",
        "if result is not None:\n",
        "    print(f\"The result of {num1} / {num2} is: {result}\")"
      ],
      "metadata": {
        "colab": {
          "base_uri": "https://localhost:8080/"
        },
        "id": "aokUwbvfyJuL",
        "outputId": "9cc20832-1b1b-4ccb-a872-b83af1e77327"
      },
      "execution_count": 6,
      "outputs": [
        {
          "output_type": "stream",
          "name": "stdout",
          "text": [
            "Error: Division by zero is not allowed.\n"
          ]
        }
      ]
    },
    {
      "cell_type": "code",
      "source": [
        "#Write a Python program that logs an error message to a log file when a division by zero exception occurs\n",
        "import logging\n",
        "\n",
        "logging.basicConfig(filename=\"error.log\", level=logging.ERROR,\n",
        "                    format=\"%(asctime)s - %(levelname)s - %(message)s\")\n",
        "\n",
        "def divide(a, b):\n",
        "    try:\n",
        "        result = a / b\n",
        "        return result\n",
        "    except ZeroDivisionError:\n",
        "        logging.error(\"Division by zero error occurred. Attempted to divide %d by %d.\", a, b)\n",
        "        return \"Error: Division by zero is not allowed.\"\n",
        "\n",
        "num1 = 10\n",
        "num2 = 0\n",
        "print(divide(num1, num2))\n"
      ],
      "metadata": {
        "colab": {
          "base_uri": "https://localhost:8080/"
        },
        "id": "zyqPDO02ycxF",
        "outputId": "291b2bc2-a1ee-4894-9e36-aa43bc54c46b"
      },
      "execution_count": 7,
      "outputs": [
        {
          "output_type": "stream",
          "name": "stderr",
          "text": [
            "ERROR:root:Division by zero error occurred. Attempted to divide 10 by 0.\n"
          ]
        },
        {
          "output_type": "stream",
          "name": "stdout",
          "text": [
            "Error: Division by zero is not allowed.\n"
          ]
        }
      ]
    },
    {
      "cell_type": "code",
      "source": [
        "#How do you log information at different levels (INFO, ERROR, WARNING) in Python using the logging module\n",
        "import logging\n",
        "\n",
        "logging.basicConfig(level=logging.INFO,\n",
        "                    format='%(asctime)s - %(levelname)s - %(message)s')\n",
        "\n",
        "logger = logging.getLogger(__name__)\n",
        "\n",
        "logger.info(\"This is an informational message.\")\n",
        "logger.warning(\"This is a warning message.\")\n",
        "logger.error(\"This is an error message.\")\n",
        "logger.debug(\"This is a debug message.\")\n",
        "logger.critical(\"This is a critical message.\")"
      ],
      "metadata": {
        "colab": {
          "base_uri": "https://localhost:8080/"
        },
        "id": "x667CRgGywKs",
        "outputId": "8c3bfc7d-97cd-438c-f6fe-05d7cb9c9a97"
      },
      "execution_count": 8,
      "outputs": [
        {
          "output_type": "stream",
          "name": "stderr",
          "text": [
            "WARNING:__main__:This is a warning message.\n",
            "ERROR:__main__:This is an error message.\n",
            "CRITICAL:__main__:This is a critical message.\n"
          ]
        }
      ]
    },
    {
      "cell_type": "code",
      "source": [
        "#Write a program to handle a file opening error using exception handling\n",
        "def open_and_process_file(filename):\n",
        "    \"\"\"Opens a file, processes it, and handles file opening errors.\"\"\"\n",
        "    try:\n",
        "        with open(filename, 'r') as file:\n",
        "\n",
        "            for line in file:\n",
        "                print(line, end='')\n",
        "\n",
        "    except FileNotFoundError:\n",
        "        print(f\"Error: File '{filename}' not found.\")\n",
        "    except PermissionError:\n",
        "        print(f\"Error: Permission denied to open file '{filename}'.\")\n",
        "    except IOError as e:\n",
        "        print(f\"An I/O error occurred: {e}\")\n",
        "    except Exception as e:\n",
        "        print(f\"An unexpected error occured {e}\")\n",
        "\n",
        "file_to_open = \"my_file.txt\"\n",
        "\n",
        "try:\n",
        "    with open(file_to_open, 'w') as f:\n",
        "        f.write(\"This is line 1.\\nThis is line 2.\")\n",
        "except IOError as e:\n",
        "    print(f\"Error creating test file: {e}\")\n",
        "\n",
        "open_and_process_file(file_to_open)\n",
        "\n",
        "open_and_process_file(\"non_existent_file.txt\")\n",
        "\n",
        "try:\n",
        "    with open(\"no_read_permissions.txt\", \"w\") as f:\n",
        "        f.write(\"test\")\n",
        "    import os\n",
        "    os.chmod(\"no_read_permissions.txt\", 0o222)\n",
        "    open_and_process_file(\"no_read_permissions.txt\")\n",
        "except Exception as e:\n",
        "    print(f\"Example of no read permissions skipped due to error or platform limitations: {e}\")"
      ],
      "metadata": {
        "colab": {
          "base_uri": "https://localhost:8080/"
        },
        "id": "fphKJVQxzHxr",
        "outputId": "bdf3775b-0f17-427b-823a-524368fd6025"
      },
      "execution_count": 9,
      "outputs": [
        {
          "output_type": "stream",
          "name": "stdout",
          "text": [
            "This is line 1.\n",
            "This is line 2.Error: File 'non_existent_file.txt' not found.\n",
            "test"
          ]
        }
      ]
    },
    {
      "cell_type": "code",
      "source": [
        "#How can you read a file line by line and store its content in a list in Python\n",
        "def read_file_to_list_readlines(filename):\n",
        "    \"\"\"Reads a file line by line and stores content in a list using readlines().\"\"\"\n",
        "    try:\n",
        "        with open(filename, 'r') as file:\n",
        "            lines = file.readlines()\n",
        "\n",
        "            lines = [line.rstrip('\\n') for line in lines]\n",
        "            return lines\n",
        "    except FileNotFoundError:\n",
        "        print(f\"Error: File '{filename}' not found.\")\n",
        "        return []\n",
        "    except IOError as e:\n",
        "        print(f\"An I/O error occurred: {e}\")\n",
        "        return []\n",
        "\n",
        "filename = \"my_file.txt\"\n",
        "\n",
        "try:\n",
        "    with open(filename, 'w') as f:\n",
        "        f.write(\"Line 1\\nLine 2\\nLine 3\")\n",
        "except IOError as e:\n",
        "    print(f\"Error creating test file: {e}\")\n",
        "\n",
        "file_content = read_file_to_list_readlines(filename)\n",
        "print(file_content)"
      ],
      "metadata": {
        "colab": {
          "base_uri": "https://localhost:8080/"
        },
        "id": "hwwcngq0zmTa",
        "outputId": "d62c58e2-a301-495e-ef1c-842dc7785228"
      },
      "execution_count": 10,
      "outputs": [
        {
          "output_type": "stream",
          "name": "stdout",
          "text": [
            "['Line 1', 'Line 2', 'Line 3']\n"
          ]
        }
      ]
    },
    {
      "cell_type": "code",
      "source": [
        "#How can you append data to an existing file in Python\n",
        "def append_to_file(filename, data):\n",
        "\n",
        "    try:\n",
        "        with open(filename, 'a') as file:\n",
        "            file.write(data)\n",
        "        print(f\"Data successfully appended to '{filename}'.\")\n",
        "    except IOError as e:\n",
        "        print(f\"An I/O error occurred: {e}\")\n",
        "\n",
        "filename = \"my_file.txt\"\n",
        "\n",
        "try:\n",
        "    with open(filename, 'w') as f:\n",
        "        f.write(\"Initial content.\\n\")\n",
        "except IOError as e:\n",
        "    print(f\"Error creating test file: {e}\")\n",
        "\n",
        "append_to_file(filename, \"This line is appended.\\n\")\n",
        "append_to_file(filename, \"Another appended line.\\n\")\n",
        "\n",
        "try:\n",
        "    with open(filename, 'r') as file:\n",
        "        print(\"File content after appending:\")\n",
        "        print(file.read())\n",
        "except IOError as e:\n",
        "    print(f\"Error reading test file: {e}\")\n"
      ],
      "metadata": {
        "colab": {
          "base_uri": "https://localhost:8080/"
        },
        "id": "laja0oFn0aCi",
        "outputId": "eaf49fc6-e87a-47c6-c67d-a3a60f0189bd"
      },
      "execution_count": 12,
      "outputs": [
        {
          "output_type": "stream",
          "name": "stdout",
          "text": [
            "Data successfully appended to 'my_file.txt'.\n",
            "Data successfully appended to 'my_file.txt'.\n",
            "File content after appending:\n",
            "Initial content.\n",
            "This line is appended.\n",
            "Another appended line.\n",
            "\n"
          ]
        }
      ]
    },
    {
      "cell_type": "code",
      "source": [
        "#Write a Python program that uses a try-except block to handle an error when attempting to access a dictionary key that doesn't exist.\n",
        "\n",
        "data = {\"name\": \"Pranav\", \"age\": 29, \"city\": \"Pune\"}\n",
        "\n",
        "key_to_access = \"email\"\n",
        "\n",
        "try:\n",
        "    value = data[key_to_access]\n",
        "    print(f\"Value: {value}\")\n",
        "except KeyError:\n",
        "    print(f\"Error: The key '{key_to_access}' does not exist in the dictionary.\")\n",
        "\n"
      ],
      "metadata": {
        "colab": {
          "base_uri": "https://localhost:8080/"
        },
        "id": "-HJunpjI07oR",
        "outputId": "8c368aac-1ae7-45a2-ac68-9949d49dad09"
      },
      "execution_count": 13,
      "outputs": [
        {
          "output_type": "stream",
          "name": "stdout",
          "text": [
            "Error: The key 'email' does not exist in the dictionary.\n"
          ]
        }
      ]
    },
    {
      "cell_type": "code",
      "source": [
        "# Write a program that demonstrates using multiple except blocks to handle different types of exceptions\n",
        "def perform_operations():\n",
        "    try:\n",
        "\n",
        "        num1 = int(input(\"Enter first number: \"))\n",
        "        num2 = int(input(\"Enter second number: \"))\n",
        "        result = num1 / num2\n",
        "\n",
        "        sample_dict = {\"a\": 10, \"b\": 20}\n",
        "        key = input(\"Enter dictionary key to access: \")\n",
        "        value = sample_dict[key]\n",
        "\n",
        "        print(f\"Result: {result}\")\n",
        "        print(f\"Value from dictionary: {value}\")\n",
        "\n",
        "    except ValueError:\n",
        "        print(\"Error: Invalid input! Please enter numeric values.\")\n",
        "    except ZeroDivisionError:\n",
        "        print(\"Error: Division by zero is not allowed.\")\n",
        "    except KeyError:\n",
        "        print(\"Error: The key does not exist in the dictionary.\")\n",
        "    except Exception as e:\n",
        "        print(f\"An unexpected error occurred: {e}\")\n",
        "\n",
        "perform_operations()\n"
      ],
      "metadata": {
        "colab": {
          "base_uri": "https://localhost:8080/"
        },
        "id": "ngTk2VlG1b1a",
        "outputId": "dc9adaa9-1a12-4966-f2df-778714295acf"
      },
      "execution_count": 16,
      "outputs": [
        {
          "output_type": "stream",
          "name": "stdout",
          "text": [
            "Enter first number: 10\n",
            "Enter second number: 0\n",
            "Error: Division by zero is not allowed.\n"
          ]
        }
      ]
    },
    {
      "cell_type": "code",
      "source": [
        "#How would you check if a file exists before attempting to read it in Python\n",
        "import os\n",
        "\n",
        "filename = \"sample.txt\"\n",
        "\n",
        "if os.path.exists(filename):\n",
        "    with open(filename, \"r\") as file:\n",
        "        content = file.read()\n",
        "        print(\"File Content:\\n\", content)\n",
        "else:\n",
        "    print(f\"Error: The file '{filename}' does not exist.\")\n"
      ],
      "metadata": {
        "colab": {
          "base_uri": "https://localhost:8080/"
        },
        "id": "JXAGq_ZP2Nqi",
        "outputId": "7e2ccb23-9ca7-4d71-b4f8-dc59f1fc8784"
      },
      "execution_count": 17,
      "outputs": [
        {
          "output_type": "stream",
          "name": "stdout",
          "text": [
            "File Content:\n",
            " \n",
            "This is a new line appended to the file.\n"
          ]
        }
      ]
    },
    {
      "cell_type": "code",
      "source": [
        "#Write a program that uses the logging module to log both informational and error messages\n",
        "import logging\n",
        "\n",
        "logging.basicConfig(\n",
        "    filename=\"app.log\",\n",
        "    level=logging.DEBUG,\n",
        "    format=\"%(asctime)s - %(levelname)s - %(message)s\",\n",
        "    datefmt=\"%Y-%m-%d %H:%M:%S\"\n",
        ")\n",
        "\n",
        "def divide_numbers(a, b):\n",
        "    logging.info(f\"Attempting to divide {a} by {b}\")\n",
        "    try:\n",
        "        result = a / b\n",
        "        logging.info(f\"Division successful: {a} / {b} = {result}\")\n",
        "        return result\n",
        "    except ZeroDivisionError:\n",
        "        logging.error(\"Error: Division by zero is not allowed\")\n",
        "    except Exception as e:\n",
        "        logging.error(f\"An unexpected error occurred: {e}\")\n",
        "\n",
        "divide_numbers(10, 2)\n",
        "divide_numbers(5, 0)\n"
      ],
      "metadata": {
        "colab": {
          "base_uri": "https://localhost:8080/"
        },
        "id": "Vm8uyoGa2eq0",
        "outputId": "0904ee36-1367-471c-e307-d9b7cab4e39e"
      },
      "execution_count": 20,
      "outputs": [
        {
          "output_type": "stream",
          "name": "stderr",
          "text": [
            "ERROR:root:Error: Division by zero is not allowed\n"
          ]
        }
      ]
    },
    {
      "cell_type": "code",
      "source": [
        "#Write a Python program that prints the content of a file and handles the case when the file is empty\n",
        "import os\n",
        "\n",
        "def read_file(filename):\n",
        "    \"\"\"Reads and prints the content of a file, handling empty file cases.\"\"\"\n",
        "    if not os.path.exists(filename):\n",
        "        print(f\"Error: The file '{filename}' does not exist.\")\n",
        "        return\n",
        "\n",
        "    with open(filename, \"r\") as file:\n",
        "        content = file.read()\n",
        "\n",
        "    if not content.strip():\n",
        "        print(f\"Warning: The file '{filename}' is empty.\")\n",
        "    else:\n",
        "        print(\"File Content:\\n\", content)\n",
        "\n",
        "filename = \"sample.txt\"\n",
        "read_file(filename)\n"
      ],
      "metadata": {
        "colab": {
          "base_uri": "https://localhost:8080/"
        },
        "id": "VVNKYHXT3Bdh",
        "outputId": "e2386a32-66c6-4b88-eacf-668c4b4756dd"
      },
      "execution_count": 21,
      "outputs": [
        {
          "output_type": "stream",
          "name": "stdout",
          "text": [
            "File Content:\n",
            " \n",
            "This is a new line appended to the file.\n"
          ]
        }
      ]
    },
    {
      "cell_type": "code",
      "source": [
        "#Write a Python program to create and write a list of numbers to a file, one number per line\n",
        "def write_numbers_to_file(filename, numbers):\n",
        "\n",
        "    try:\n",
        "        with open(filename, 'w') as file:\n",
        "            for number in numbers:\n",
        "                file.write(str(number) + '\\n')\n",
        "        print(f\"Numbers successfully written to '{filename}'.\")\n",
        "    except IOError as e:\n",
        "        print(f\"An I/O error occurred: {e}\")\n",
        "\n",
        "filename = \"numbers.txt\"\n",
        "number_list = [10, 25, 3, 42, 17, 8]\n",
        "\n",
        "write_numbers_to_file(filename, number_list)\n",
        "\n",
        "try:\n",
        "    with open(filename, 'r') as file:\n",
        "        print(\"File contents:\")\n",
        "        print(file.read())\n",
        "except IOError as e:\n",
        "    print(f\"Error reading test file: {e}\")\n"
      ],
      "metadata": {
        "colab": {
          "base_uri": "https://localhost:8080/"
        },
        "id": "RphVItfl4LsV",
        "outputId": "7bf3619b-97c2-46a6-b86b-5662de4f90c5"
      },
      "execution_count": 25,
      "outputs": [
        {
          "output_type": "stream",
          "name": "stdout",
          "text": [
            "Numbers successfully written to 'numbers.txt'.\n",
            "File contents:\n",
            "10\n",
            "25\n",
            "3\n",
            "42\n",
            "17\n",
            "8\n",
            "\n"
          ]
        }
      ]
    },
    {
      "cell_type": "code",
      "source": [
        "#Write a program that handles both IndexError and KeyError using a try-except block\n",
        "def handle_errors():\n",
        "    my_list = [10, 20, 30]\n",
        "    my_dict = {\"a\": 1, \"b\": 2}\n",
        "\n",
        "    try:\n",
        "        print(\"List item at index 5:\", my_list[5])\n",
        "        print(\"Dictionary value for key 'c':\", my_dict[\"c\"])\n",
        "    except IndexError:\n",
        "        print(\"Error: Index out of range. The list does not have that many elements.\")\n",
        "    except KeyError:\n",
        "        print(\"Error: Key not found in dictionary.\")\n",
        "\n",
        "handle_errors()\n"
      ],
      "metadata": {
        "colab": {
          "base_uri": "https://localhost:8080/"
        },
        "id": "pl_oCH9S6go5",
        "outputId": "9286e6cc-11ca-4f79-be4d-3fcece41f843"
      },
      "execution_count": 28,
      "outputs": [
        {
          "output_type": "stream",
          "name": "stdout",
          "text": [
            "Error: Index out of range. The list does not have that many elements.\n"
          ]
        }
      ]
    },
    {
      "cell_type": "code",
      "source": [
        "#How would you open a file and read its contents using a context manager in Python\n",
        "def read_file_with_context_manager(filename):\n",
        "\n",
        "    try:\n",
        "        with open(filename, 'r') as file:\n",
        "            file_content = file.read()\n",
        "            return file_content\n",
        "    except FileNotFoundError:\n",
        "        print(f\"Error: File '{filename}' not found.\")\n",
        "        return None\n",
        "    except IOError as e:\n",
        "        print(f\"An I/O error occurred: {e}\")\n",
        "        return None\n",
        "\n",
        "filename = \"my_file.txt\"\n",
        "\n",
        "try:\n",
        "    with open(filename, 'w') as f:\n",
        "        f.write(\"This is line 1.\\nThis is line 2.\\nThis is line 3.\")\n",
        "except IOError as e:\n",
        "    print(f\"Error creating test file: {e}\")\n",
        "\n",
        "content = read_file_with_context_manager(filename)\n",
        "\n",
        "if content is not None:\n",
        "    print(\"File content:\")\n",
        "    print(content)"
      ],
      "metadata": {
        "colab": {
          "base_uri": "https://localhost:8080/"
        },
        "id": "VP9t23r060bz",
        "outputId": "3ba99741-57b3-4903-e62f-5a68f4e0b363"
      },
      "execution_count": 29,
      "outputs": [
        {
          "output_type": "stream",
          "name": "stdout",
          "text": [
            "File content:\n",
            "This is line 1.\n",
            "This is line 2.\n",
            "This is line 3.\n"
          ]
        }
      ]
    },
    {
      "cell_type": "code",
      "source": [
        "# Write a Python program that reads a file and prints the number of occurrences of a specific word\n",
        "def count_word_occurrences(filename, word):\n",
        "\n",
        "    try:\n",
        "        with open(filename, \"r\") as file:\n",
        "            content = file.read().lower()\n",
        "            words = content.split()\n",
        "            count = words.count(word.lower())\n",
        "        print(f\"The word '{word}' appears {count} times in '{filename}'.\")\n",
        "    except FileNotFoundError:\n",
        "        print(f\"Error: The file '{filename}' does not exist.\")\n",
        "\n",
        "filename = \"sample.txt\"\n",
        "search_word = \"Python\"\n",
        "count_word_occurrences(filename, search_word)\n"
      ],
      "metadata": {
        "colab": {
          "base_uri": "https://localhost:8080/"
        },
        "id": "D175992j7OyY",
        "outputId": "00782464-f0d8-4a4a-d699-041d8124d291"
      },
      "execution_count": 30,
      "outputs": [
        {
          "output_type": "stream",
          "name": "stdout",
          "text": [
            "The word 'Python' appears 0 times in 'sample.txt'.\n"
          ]
        }
      ]
    },
    {
      "cell_type": "code",
      "source": [
        "#How can you check if a file is empty before attempting to read its contents\n",
        "import os\n",
        "\n",
        "filename = \"sample.txt\"\n",
        "\n",
        "if os.path.exists(filename) and os.path.getsize(filename) == 0:\n",
        "    print(f\"The file '{filename}' is empty.\")\n",
        "else:\n",
        "    with open(filename, \"r\") as file:\n",
        "        content = file.read()\n",
        "    print(\"File Content:\\n\", content)\n"
      ],
      "metadata": {
        "colab": {
          "base_uri": "https://localhost:8080/"
        },
        "id": "GOf60Kf-7kOC",
        "outputId": "b2bc30c8-e956-4c6a-ee27-eec190e38b26"
      },
      "execution_count": 31,
      "outputs": [
        {
          "output_type": "stream",
          "name": "stdout",
          "text": [
            "File Content:\n",
            " \n",
            "This is a new line appended to the file.\n"
          ]
        }
      ]
    },
    {
      "cell_type": "code",
      "source": [
        "#Write a Python program that writes to a log file when an error occurs during file handling\n",
        "import logging\n",
        "\n",
        "logging.basicConfig(\n",
        "    filename=\"error.log\",\n",
        "    level=logging.ERROR,\n",
        "    format=\"%(asctime)s - %(levelname)s - %(message)s\",\n",
        "    datefmt=\"%Y-%m-%d %H:%M:%S\"\n",
        ")\n",
        "\n",
        "def read_file(filename):\n",
        "\n",
        "    try:\n",
        "        with open(filename, \"r\") as file:\n",
        "            content = file.read()\n",
        "        print(\"File Content:\\n\", content)\n",
        "    except FileNotFoundError:\n",
        "        logging.error(f\"File '{filename}' not found.\")\n",
        "        print(\"Error: The file does not exist. Check the log file for details.\")\n",
        "    except Exception as e:\n",
        "        logging.error(f\"An unexpected error occurred: {e}\")\n",
        "        print(\"Error: Something went wrong. Check the log file for details.\")\n",
        "\n",
        "read_file(\"nonexistent.txt\")\n"
      ],
      "metadata": {
        "colab": {
          "base_uri": "https://localhost:8080/"
        },
        "id": "9HbbvaQY71f-",
        "outputId": "dbd47588-ad3e-49dd-d373-f3df4d387039"
      },
      "execution_count": 33,
      "outputs": [
        {
          "output_type": "stream",
          "name": "stderr",
          "text": [
            "ERROR:root:File 'nonexistent.txt' not found.\n"
          ]
        },
        {
          "output_type": "stream",
          "name": "stdout",
          "text": [
            "Error: The file does not exist. Check the log file for details.\n"
          ]
        }
      ]
    }
  ]
}